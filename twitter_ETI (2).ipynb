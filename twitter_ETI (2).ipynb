{
 "cells": [
  {
   "cell_type": "markdown",
   "metadata": {},
   "source": [
    "### Import neccessary packages"
   ]
  },
  {
   "cell_type": "code",
   "execution_count": 1,
   "metadata": {},
   "outputs": [],
   "source": [
    "import tweepy as tw\n",
    "from tweepy import OAuthHandler\n",
    "import pandas as pd\n",
    "import keys as k #I have already created a script to keep my credentials private."
   ]
  },
  {
   "cell_type": "markdown",
   "metadata": {},
   "source": [
    "### Define credential keys"
   ]
  },
  {
   "cell_type": "code",
   "execution_count": 2,
   "metadata": {},
   "outputs": [],
   "source": [
    "api_key = k.credentials['api_key']\n",
    "api_secret_key = k.credentials['api_secret']\n",
    "access_token = k.credentials['access_token']\n",
    "access_token_secret = k.credentials['access_token_secret']\n",
    "\n",
    "auth = OAuthHandler(api_key, api_secret_key)\n",
    "auth.set_access_token(access_token, access_token_secret)\n",
    "api = tw.API(auth, wait_on_rate_limit=True, wait_on_rate_limit_notify=True)"
   ]
  },
  {
   "cell_type": "markdown",
   "metadata": {},
   "source": [
    "### Start with the script"
   ]
  },
  {
   "cell_type": "code",
   "execution_count": 3,
   "metadata": {},
   "outputs": [],
   "source": [
    "tweets = tw.Cursor(api.search, q='#endsars',count = 450, since='2020-01-01').items(100)\n",
    "tweets\n",
    "tweets_list  = [[tweet.text, tweet.id, tweet.source, tweet.coordinates, tweet.retweet_count, tweet.favorite_count,\n",
    "                tweet.user._json['name'],tweet.user._json['screen_name'], tweet.user._json['location'], tweet.user._json['friends_count'],\n",
    "                tweet.user._json['verified'], tweet.user._json['description'], tweet.user._json['followers_count']] for tweet in tweets]"
   ]
  },
  {
   "cell_type": "code",
   "execution_count": 4,
   "metadata": {},
   "outputs": [],
   "source": [
    "df= pd.DataFrame(tweets_list, columns = ['tweet_text','tweet_id', 'tweet_source','coordinates','retweet_count','likes_count','Username', 'screen_name','location', 'friends_count','verification_status','description','followers_count'])"
   ]
  },
  {
   "cell_type": "code",
   "execution_count": 5,
   "metadata": {},
   "outputs": [
    {
     "data": {
      "text/html": [
       "<div>\n",
       "<style scoped>\n",
       "    .dataframe tbody tr th:only-of-type {\n",
       "        vertical-align: middle;\n",
       "    }\n",
       "\n",
       "    .dataframe tbody tr th {\n",
       "        vertical-align: top;\n",
       "    }\n",
       "\n",
       "    .dataframe thead th {\n",
       "        text-align: right;\n",
       "    }\n",
       "</style>\n",
       "<table border=\"1\" class=\"dataframe\">\n",
       "  <thead>\n",
       "    <tr style=\"text-align: right;\">\n",
       "      <th></th>\n",
       "      <th>tweet_text</th>\n",
       "      <th>tweet_id</th>\n",
       "      <th>tweet_source</th>\n",
       "      <th>coordinates</th>\n",
       "      <th>retweet_count</th>\n",
       "      <th>likes_count</th>\n",
       "      <th>Username</th>\n",
       "      <th>screen_name</th>\n",
       "      <th>location</th>\n",
       "      <th>friends_count</th>\n",
       "      <th>verification_status</th>\n",
       "      <th>description</th>\n",
       "      <th>followers_count</th>\n",
       "    </tr>\n",
       "  </thead>\n",
       "  <tbody>\n",
       "    <tr>\n",
       "      <th>0</th>\n",
       "      <td>RT @iamUncleMark: Now that #EndSARS is back, w...</td>\n",
       "      <td>1334761369418289152</td>\n",
       "      <td>Twitter for Android</td>\n",
       "      <td>None</td>\n",
       "      <td>2215</td>\n",
       "      <td>0</td>\n",
       "      <td>Ola Olami</td>\n",
       "      <td>EngrOlami</td>\n",
       "      <td>Lagos Island, Nigeria.</td>\n",
       "      <td>445</td>\n",
       "      <td>False</td>\n",
       "      <td>Say it the way it should be said! #Auto Engr |...</td>\n",
       "      <td>76</td>\n",
       "    </tr>\n",
       "    <tr>\n",
       "      <th>1</th>\n",
       "      <td>RT @hardewumipaul: It is better to protest tha...</td>\n",
       "      <td>1334761368403259393</td>\n",
       "      <td>Twitter for iPhone</td>\n",
       "      <td>None</td>\n",
       "      <td>426</td>\n",
       "      <td>0</td>\n",
       "      <td>#ENDSARS 🇳🇬🇳🇬</td>\n",
       "      <td>Iamchris_carter</td>\n",
       "      <td>closer than you think</td>\n",
       "      <td>8200</td>\n",
       "      <td>False</td>\n",
       "      <td>Legendary in the making INSTAGRAM - iamchris_c...</td>\n",
       "      <td>15028</td>\n",
       "    </tr>\n",
       "    <tr>\n",
       "      <th>2</th>\n",
       "      <td>RT @OfficialTsounds: I love this quote of trut...</td>\n",
       "      <td>1334761368227090433</td>\n",
       "      <td>Twitter Web App</td>\n",
       "      <td>None</td>\n",
       "      <td>4</td>\n",
       "      <td>0</td>\n",
       "      <td>Ajoke  Conde</td>\n",
       "      <td>jokeconde</td>\n",
       "      <td></td>\n",
       "      <td>88</td>\n",
       "      <td>False</td>\n",
       "      <td></td>\n",
       "      <td>113</td>\n",
       "    </tr>\n",
       "    <tr>\n",
       "      <th>3</th>\n",
       "      <td>RT @AjetomobiR: #EndSARS\\n\\nIn a land of corru...</td>\n",
       "      <td>1334761368122241024</td>\n",
       "      <td>Twitter for Android</td>\n",
       "      <td>None</td>\n",
       "      <td>383</td>\n",
       "      <td>0</td>\n",
       "      <td>Tolex</td>\n",
       "      <td>Tolex45054808</td>\n",
       "      <td></td>\n",
       "      <td>18</td>\n",
       "      <td>False</td>\n",
       "      <td></td>\n",
       "      <td>2</td>\n",
       "    </tr>\n",
       "    <tr>\n",
       "      <th>4</th>\n",
       "      <td>RT @zion_ewere: @vanguardngrnews Dear @NYCN_Hq...</td>\n",
       "      <td>1334761368105390081</td>\n",
       "      <td>Twitter for iPhone</td>\n",
       "      <td>None</td>\n",
       "      <td>4</td>\n",
       "      <td>0</td>\n",
       "      <td>YUTE♍️🥺</td>\n",
       "      <td>_iEkan</td>\n",
       "      <td>Worldwide</td>\n",
       "      <td>9539</td>\n",
       "      <td>False</td>\n",
       "      <td>DRAMATIC: The fall of summer OUT NOW.</td>\n",
       "      <td>14476</td>\n",
       "    </tr>\n",
       "  </tbody>\n",
       "</table>\n",
       "</div>"
      ],
      "text/plain": [
       "                                          tweet_text             tweet_id  \\\n",
       "0  RT @iamUncleMark: Now that #EndSARS is back, w...  1334761369418289152   \n",
       "1  RT @hardewumipaul: It is better to protest tha...  1334761368403259393   \n",
       "2  RT @OfficialTsounds: I love this quote of trut...  1334761368227090433   \n",
       "3  RT @AjetomobiR: #EndSARS\\n\\nIn a land of corru...  1334761368122241024   \n",
       "4  RT @zion_ewere: @vanguardngrnews Dear @NYCN_Hq...  1334761368105390081   \n",
       "\n",
       "          tweet_source coordinates  retweet_count  likes_count       Username  \\\n",
       "0  Twitter for Android        None           2215            0      Ola Olami   \n",
       "1   Twitter for iPhone        None            426            0  #ENDSARS 🇳🇬🇳🇬   \n",
       "2      Twitter Web App        None              4            0   Ajoke  Conde   \n",
       "3  Twitter for Android        None            383            0          Tolex   \n",
       "4   Twitter for iPhone        None              4            0        YUTE♍️🥺   \n",
       "\n",
       "       screen_name                 location  friends_count  \\\n",
       "0        EngrOlami   Lagos Island, Nigeria.            445   \n",
       "1  Iamchris_carter  closer than you think             8200   \n",
       "2        jokeconde                                      88   \n",
       "3    Tolex45054808                                      18   \n",
       "4           _iEkan                Worldwide           9539   \n",
       "\n",
       "   verification_status                                        description  \\\n",
       "0                False  Say it the way it should be said! #Auto Engr |...   \n",
       "1                False  Legendary in the making INSTAGRAM - iamchris_c...   \n",
       "2                False                                                      \n",
       "3                False                                                      \n",
       "4                False              DRAMATIC: The fall of summer OUT NOW.   \n",
       "\n",
       "   followers_count  \n",
       "0               76  \n",
       "1            15028  \n",
       "2              113  \n",
       "3                2  \n",
       "4            14476  "
      ]
     },
     "execution_count": 5,
     "metadata": {},
     "output_type": "execute_result"
    }
   ],
   "source": [
    "df.head()"
   ]
  },
  {
   "cell_type": "markdown",
   "metadata": {},
   "source": [
    "### Save file in datetime format"
   ]
  },
  {
   "cell_type": "code",
   "execution_count": 6,
   "metadata": {},
   "outputs": [],
   "source": [
    "import time"
   ]
  },
  {
   "cell_type": "code",
   "execution_count": 8,
   "metadata": {},
   "outputs": [
    {
     "name": "stdout",
     "output_type": "stream",
     "text": [
      "File name is successfully saved as tweets_downloaded_20201204-072958.csv\n"
     ]
    }
   ],
   "source": [
    "current_timestamp = time.strftime(\"%Y%m%d-%H%M%S\")\n",
    "file_name = 'tweets_downloaded_'+current_timestamp+\".csv\"\n",
    "df.to_csv(file_name, index = False)\n",
    "\n",
    "print(\"File name is successfully saved as {0}\".format(file_name))"
   ]
  },
  {
   "cell_type": "code",
   "execution_count": null,
   "metadata": {},
   "outputs": [],
   "source": []
  }
 ],
 "metadata": {
  "kernelspec": {
   "display_name": "Python 3",
   "language": "python",
   "name": "python3"
  },
  "language_info": {
   "codemirror_mode": {
    "name": "ipython",
    "version": 3
   },
   "file_extension": ".py",
   "mimetype": "text/x-python",
   "name": "python",
   "nbconvert_exporter": "python",
   "pygments_lexer": "ipython3",
   "version": "3.6.8"
  }
 },
 "nbformat": 4,
 "nbformat_minor": 2
}
